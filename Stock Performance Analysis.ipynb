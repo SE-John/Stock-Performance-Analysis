{
 "cells": [
  {
   "cell_type": "code",
   "execution_count": 1,
   "id": "e909dca6",
   "metadata": {},
   "outputs": [],
   "source": [
    "import pandas as pd\n",
    "import numpy as np\n",
    "import matplotlib.pyplot as plt\n",
    "from scipy import stats\n",
    "import seaborn as sns\n",
    "import statsmodels.api as sm"
   ]
  },
  {
   "cell_type": "code",
   "execution_count": 2,
   "id": "7398fede",
   "metadata": {},
   "outputs": [
    {
     "data": {
      "text/html": [
       "<div>\n",
       "<style scoped>\n",
       "    .dataframe tbody tr th:only-of-type {\n",
       "        vertical-align: middle;\n",
       "    }\n",
       "\n",
       "    .dataframe tbody tr th {\n",
       "        vertical-align: top;\n",
       "    }\n",
       "\n",
       "    .dataframe thead th {\n",
       "        text-align: right;\n",
       "    }\n",
       "</style>\n",
       "<table border=\"1\" class=\"dataframe\">\n",
       "  <thead>\n",
       "    <tr style=\"text-align: right;\">\n",
       "      <th></th>\n",
       "      <th>Date</th>\n",
       "      <th>Open</th>\n",
       "      <th>High</th>\n",
       "      <th>Low</th>\n",
       "      <th>Close</th>\n",
       "      <th>Adj Close</th>\n",
       "      <th>Volume</th>\n",
       "      <th>Company</th>\n",
       "    </tr>\n",
       "  </thead>\n",
       "  <tbody>\n",
       "    <tr>\n",
       "      <th>0</th>\n",
       "      <td>2017-07-08 00:00:00</td>\n",
       "      <td>39.264999</td>\n",
       "      <td>39.730000</td>\n",
       "      <td>39.167500</td>\n",
       "      <td>39.702499</td>\n",
       "      <td>37.585022</td>\n",
       "      <td>87481200</td>\n",
       "      <td>AAPL</td>\n",
       "    </tr>\n",
       "    <tr>\n",
       "      <th>1</th>\n",
       "      <td>2017-08-08 00:00:00</td>\n",
       "      <td>39.650002</td>\n",
       "      <td>40.457500</td>\n",
       "      <td>39.567501</td>\n",
       "      <td>40.020000</td>\n",
       "      <td>37.885582</td>\n",
       "      <td>144823600</td>\n",
       "      <td>AAPL</td>\n",
       "    </tr>\n",
       "    <tr>\n",
       "      <th>2</th>\n",
       "      <td>2017-09-08 00:00:00</td>\n",
       "      <td>39.814999</td>\n",
       "      <td>40.317501</td>\n",
       "      <td>39.777500</td>\n",
       "      <td>40.264999</td>\n",
       "      <td>38.117512</td>\n",
       "      <td>104526000</td>\n",
       "      <td>AAPL</td>\n",
       "    </tr>\n",
       "    <tr>\n",
       "      <th>3</th>\n",
       "      <td>2017-10-08 00:00:00</td>\n",
       "      <td>39.974998</td>\n",
       "      <td>40.000000</td>\n",
       "      <td>38.657501</td>\n",
       "      <td>38.830002</td>\n",
       "      <td>36.903397</td>\n",
       "      <td>163217200</td>\n",
       "      <td>AAPL</td>\n",
       "    </tr>\n",
       "    <tr>\n",
       "      <th>4</th>\n",
       "      <td>2017-11-08 00:00:00</td>\n",
       "      <td>39.150002</td>\n",
       "      <td>39.642502</td>\n",
       "      <td>39.017502</td>\n",
       "      <td>39.369999</td>\n",
       "      <td>37.416603</td>\n",
       "      <td>105028400</td>\n",
       "      <td>AAPL</td>\n",
       "    </tr>\n",
       "  </tbody>\n",
       "</table>\n",
       "</div>"
      ],
      "text/plain": [
       "                  Date       Open       High        Low      Close  Adj Close  \\\n",
       "0  2017-07-08 00:00:00  39.264999  39.730000  39.167500  39.702499  37.585022   \n",
       "1  2017-08-08 00:00:00  39.650002  40.457500  39.567501  40.020000  37.885582   \n",
       "2  2017-09-08 00:00:00  39.814999  40.317501  39.777500  40.264999  38.117512   \n",
       "3  2017-10-08 00:00:00  39.974998  40.000000  38.657501  38.830002  36.903397   \n",
       "4  2017-11-08 00:00:00  39.150002  39.642502  39.017502  39.369999  37.416603   \n",
       "\n",
       "      Volume Company  \n",
       "0   87481200    AAPL  \n",
       "1  144823600    AAPL  \n",
       "2  104526000    AAPL  \n",
       "3  163217200    AAPL  \n",
       "4  105028400    AAPL  "
      ]
     },
     "execution_count": 2,
     "metadata": {},
     "output_type": "execute_result"
    }
   ],
   "source": [
    "# Loading the dataset\n",
    "df = pd.read_excel(\"Combine_Stock_Histry - Copy.xlsx\")\n",
    "\n",
    "# View of the first 5 rows\n",
    "df.head()"
   ]
  },
  {
   "cell_type": "markdown",
   "id": "b1be7e47",
   "metadata": {},
   "source": [
    "# Data Preparation"
   ]
  },
  {
   "cell_type": "code",
   "execution_count": 3,
   "id": "14721925",
   "metadata": {},
   "outputs": [
    {
     "name": "stdout",
     "output_type": "stream",
     "text": [
      "<class 'pandas.core.frame.DataFrame'>\n",
      "RangeIndex: 12580 entries, 0 to 12579\n",
      "Data columns (total 8 columns):\n",
      " #   Column     Non-Null Count  Dtype  \n",
      "---  ------     --------------  -----  \n",
      " 0   Date       12580 non-null  object \n",
      " 1   Open       12580 non-null  float64\n",
      " 2   High       12580 non-null  float64\n",
      " 3   Low        12580 non-null  float64\n",
      " 4   Close      12580 non-null  float64\n",
      " 5   Adj Close  12580 non-null  float64\n",
      " 6   Volume     12580 non-null  int64  \n",
      " 7   Company    12580 non-null  object \n",
      "dtypes: float64(5), int64(1), object(2)\n",
      "memory usage: 786.4+ KB\n"
     ]
    }
   ],
   "source": [
    "# View of basic information on the columns of the dataset\n",
    "df.info()"
   ]
  },
  {
   "cell_type": "code",
   "execution_count": 6,
   "id": "d4b7cd2f",
   "metadata": {},
   "outputs": [],
   "source": [
    "# Conversion of Date from \"object\" data type to Datetime \n",
    "\n",
    "df[\"Date\"] = pd.to_datetime(df[\"Date\"], dayfirst=True)\n"
   ]
  },
  {
   "cell_type": "code",
   "execution_count": null,
   "id": "0809c783",
   "metadata": {},
   "outputs": [],
   "source": [
    "# Viewing and dropping null values\n",
    "\n",
    "#df.isnull().sum()\n"
   ]
  },
  {
   "cell_type": "code",
   "execution_count": 7,
   "id": "a13ad6f4",
   "metadata": {},
   "outputs": [],
   "source": [
    "# Sorting values by Date of each company\n",
    "\n",
    "df = df.sort_values(by=[\"Company\", \"Date\"])"
   ]
  },
  {
   "cell_type": "markdown",
   "id": "d8ea6c83",
   "metadata": {},
   "source": [
    "## Calculating Moving Averages\n",
    "\n",
    "- `50-Day Simple Moving Average`\n",
    "- `200-Day Simple Moving Average`"
   ]
  },
  {
   "cell_type": "code",
   "execution_count": 9,
   "id": "8114e55d",
   "metadata": {},
   "outputs": [],
   "source": [
    "# 50-day moving average\n",
    "df[\"50-DAY SMA\"] = df.groupby(\"Company\"\n",
    "                              )[\"Adj Close\"].transform(lambda x: x.rolling(\n",
    "                              window=50).mean())\n",
    "\n",
    "# 200-day moving average\n",
    "df[\"200-DAY SMA\"] = df.groupby(\"Company\"\n",
    "                               )[\"Adj Close\"].transform(\n",
    "                               lambda x: x.rolling(window=200).mean())"
   ]
  },
  {
   "cell_type": "markdown",
   "id": "84af68e8",
   "metadata": {},
   "source": [
    "# Daily Returns"
   ]
  },
  {
   "cell_type": "code",
   "execution_count": 10,
   "id": "e47c937d",
   "metadata": {},
   "outputs": [],
   "source": [
    "# Calculating daily returns\n",
    "\n",
    "df[\"Daily Returns\"] = df.groupby(\"Company\")[\"Adj Close\"].pct_change()"
   ]
  },
  {
   "cell_type": "markdown",
   "id": "ced179a6",
   "metadata": {},
   "source": [
    "# Statistical Analysis\n",
    "- `Regression`\n",
    "- `Volatility`\n",
    "- `Correlation`"
   ]
  },
  {
   "cell_type": "markdown",
   "id": "3671aa8f",
   "metadata": {},
   "source": [
    "### Regression Analysis"
   ]
  },
  {
   "cell_type": "code",
   "execution_count": 11,
   "id": "503a9031",
   "metadata": {},
   "outputs": [
    {
     "data": {
      "application/vnd.jupyter.widget-view+json": {
       "model_id": "ec91e5604d9c44bcb540175b3aec8aa9",
       "version_major": 2,
       "version_minor": 0
      },
      "text/plain": [
       "Dropdown(description='Company:', options=('AAPL', 'AMZN', 'GOOGL', 'JP-MRGN', 'M-SOFT', 'NTFLX', 'NVDA', 'TSLA…"
      ]
     },
     "metadata": {},
     "output_type": "display_data"
    },
    {
     "data": {
      "application/vnd.jupyter.widget-view+json": {
       "model_id": "683bf4c3292946229ff60939cc331755",
       "version_major": 2,
       "version_minor": 0
      },
      "text/plain": [
       "Output()"
      ]
     },
     "metadata": {},
     "output_type": "display_data"
    }
   ],
   "source": [
    "import ipywidgets as widgets\n",
    "from IPython.display import display\n",
    "\n",
    "# Drop down for selecting company\n",
    "company_dropdown = widgets.Dropdown(\n",
    "    options=df['Company'].unique(),\n",
    "    description='Company:',\n",
    "    disabled=False\n",
    ")\n",
    "\n",
    "# Regression Analysis\n",
    "\n",
    "# Function for performing the regression analysis\n",
    "def regression_analysis(company):\n",
    "    # Create a copy of the data \n",
    "    data = df[df[\"Company\"] == company].copy()\n",
    "    \n",
    "    # Create a \"Days\" column\n",
    "    data[\"Days\"] = (data[\"Date\"] - data[\"Date\"].min()).dt.days\n",
    "    \n",
    "    # Independent variable: Days since start\n",
    "    X = sm.add_constant(data[\"Days\"])\n",
    "    \n",
    "    # Dependent variable\n",
    "    y = data[\"Adj Close\"]\n",
    "    \n",
    "    model = sm.OLS(y, X).fit()\n",
    "    \n",
    "    # SUmmarize and display the result\n",
    "    model_summary = model.summary()\n",
    "    display(model_summary)\n",
    "    \n",
    "# Creating an interactive widget with `interactive_output`\n",
    "output = widgets.interactive_output(regression_analysis, {'company': company_dropdown})\n",
    "\n",
    "# Display the dropdown and the output\n",
    "display(company_dropdown, output)\n"
   ]
  },
  {
   "cell_type": "code",
   "execution_count": null,
   "id": "d00ffa8e",
   "metadata": {},
   "outputs": [],
   "source": [
    "df3 = df.copy()"
   ]
  },
  {
   "cell_type": "markdown",
   "id": "e7ecbe00",
   "metadata": {},
   "source": [
    "### Volatility"
   ]
  },
  {
   "cell_type": "code",
   "execution_count": 12,
   "id": "1aede122",
   "metadata": {},
   "outputs": [],
   "source": [
    "# Calculating 30-day rolling volatility using standard deviation\n",
    "df[\"Volatility\"] = df.groupby(\"Company\"\n",
    "                             )[\"Daily Returns\"].transform(\n",
    "    lambda x: x.rolling(window=30).std())"
   ]
  },
  {
   "cell_type": "markdown",
   "id": "8abf8753",
   "metadata": {},
   "source": [
    "### Correlation"
   ]
  },
  {
   "cell_type": "code",
   "execution_count": 17,
   "id": "af5374f5",
   "metadata": {},
   "outputs": [
    {
     "data": {
      "application/vnd.jupyter.widget-view+json": {
       "model_id": "ec91e5604d9c44bcb540175b3aec8aa9",
       "version_major": 2,
       "version_minor": 0
      },
      "text/plain": [
       "Dropdown(description='Company:', options=('AAPL', 'AMZN', 'GOOGL', 'JP-MRGN', 'M-SOFT', 'NTFLX', 'NVDA', 'TSLA…"
      ]
     },
     "metadata": {},
     "output_type": "display_data"
    },
    {
     "data": {
      "application/vnd.jupyter.widget-view+json": {
       "model_id": "927fe0fb90c74fc78d74a2f2db2d50a3",
       "version_major": 2,
       "version_minor": 0
      },
      "text/plain": [
       "Output()"
      ]
     },
     "metadata": {},
     "output_type": "display_data"
    }
   ],
   "source": [
    "\n",
    "# Function to calculate the correlation matrix for the selected company\n",
    "def show_correlation(company):\n",
    "    \n",
    "    # Filter the DataFrame for the selected company\n",
    "    required_columns = df[df[\"Company\"] == company][[\"Adj Close\", \"Volume\",\n",
    "                                                  \"Daily Returns\", \"Volatility\"]]\n",
    "    \n",
    "    # Calculate the correlation matrix\n",
    "    correlation_matrix = required_columns.corr()\n",
    "    \n",
    "    \n",
    "    # Display the correlation matrix\n",
    "    \n",
    "    display(correlation_matrix)\n",
    "    \n",
    "# Creating an interactive widget with `interactive_output`\n",
    "output = widgets.interactive_output(show_correlation,{\n",
    "    'company': company_dropdown})\n",
    "    \n",
    "                                    \n",
    "\n",
    "# Display the dropdown and the output\n",
    "display(company_dropdown, output)\n"
   ]
  },
  {
   "cell_type": "markdown",
   "id": "e8b3a152",
   "metadata": {},
   "source": [
    "# Daily Returns"
   ]
  },
  {
   "cell_type": "code",
   "execution_count": 24,
   "id": "abf90812",
   "metadata": {},
   "outputs": [
    {
     "data": {
      "image/png": "[encoded data removed]",
      "text/plain": [
       "<Figure size 1200x600 with 1 Axes>"
      ]
     },
     "metadata": {},
     "output_type": "display_data"
    },
    {
     "name": "stdout",
     "output_type": "stream",
     "text": [
      "Mean Daily Return: 0.0070\n",
      "Standard Deviation of Daily Returns: 0.1198\n",
      "Annualized Volatility: 1.9015\n"
     ]
    }
   ],
   "source": [
    "# Calculation of daily returns\n",
    "df['Daily Returns'] = df['Adj Close'].pct_change().dropna()\n",
    "\n",
    "# Dropping NA values created by pct_change()\n",
    "df = df.dropna()\n",
    "\n",
    "# Plotting distribution of daily returns\n",
    "plt.figure(figsize=(12, 6))\n",
    "\n",
    "# Histogram with KDE\n",
    "sns.histplot(df['Daily Returns'], kde=True, bins=50, color='blue',\n",
    "             edgecolor='black')\n",
    "\n",
    "# Formatting\n",
    "plt.title('Distribution of Daily Returns')\n",
    "plt.xlabel('Daily Return')\n",
    "plt.ylabel('Frequency')\n",
    "plt.grid(True)\n",
    "plt.tight_layout()\n",
    "\n",
    "# Show plot\n",
    "plt.show()\n",
    "\n",
    "# Calculating and printing risk metrics\n",
    "mean_return = df['Daily Returns'].mean()\n",
    "std_dev_return = df['Daily Returns'].std()\n",
    "annual_volatility = std_dev_return * np.sqrt(252)  # Assuming 252 trading days in a year\n",
    "\n",
    "print(f\"Mean Daily Return: {mean_return:.4f}\")\n",
    "print(f\"Standard Deviation of Daily Returns: {std_dev_return:.4f}\")\n",
    "print(f\"Annualized Volatility: {annual_volatility:.4f}\")\n"
   ]
  },
  {
   "cell_type": "markdown",
   "id": "0d5d5f4f",
   "metadata": {},
   "source": [
    "# Correlation Heatmap"
   ]
  },
  {
   "cell_type": "code",
   "execution_count": 26,
   "id": "30946563",
   "metadata": {},
   "outputs": [
    {
     "data": {
      "image/png": "[encoded data removed]",
      "text/plain": [
       "<Figure size 800x400 with 2 Axes>"
      ]
     },
     "metadata": {},
     "output_type": "display_data"
    }
   ],
   "source": [
    "# Select Relevant Features\n",
    "relevant_columns = ['Adj Close', 'Volume', 'Daily Returns', 'Volatility']\n",
    "corr_data = df[relevant_columns].copy()\n",
    "\n",
    "# Compute correlation matrix\n",
    "corr_matrix = corr_data.corr()\n",
    "\n",
    "# Heatmap customization\n",
    "plt.figure(figsize=(8, 4))  \n",
    "sns.set(style='whitegrid')  \n",
    "\n",
    "heatmap = sns.heatmap(\n",
    "    corr_matrix, annot=True, fmt=\".2f\", cmap='coolwarm', \n",
    "    linewidths=0.5,  cbar_kws={'shrink': 0.75},\n",
    "    vmin=-1, vmax=1, square=True, annot_kws={\"size\": 10}\n",
    ")\n",
    "\n",
    "# Customizing the title and adjusting layout\n",
    "plt.title('Correlation Heatmap of Stock Indicators', fontsize=16, pad=15)\n",
    "plt.xticks(rotation=45, ha='right', fontsize=10)  \n",
    "plt.yticks(fontsize=10)  \n",
    "\n",
    "plt.tight_layout() \n",
    "plt.show()\n"
   ]
  },
  {
   "cell_type": "code",
   "execution_count": null,
   "id": "66f63794",
   "metadata": {},
   "outputs": [],
   "source": []
  }
 ],
 "metadata": {
  "kernelspec": {
   "display_name": "Python 3 (ipykernel)",
   "language": "python",
   "name": "python3"
  },
  "language_info": {
   "codemirror_mode": {
    "name": "ipython",
    "version": 3
   },
   "file_extension": ".py",
   "mimetype": "text/x-python",
   "name": "python",
   "nbconvert_exporter": "python",
   "pygments_lexer": "ipython3",
   "version": "3.10.9"
  }
 },
 "nbformat": 4,
 "nbformat_minor": 5
}
